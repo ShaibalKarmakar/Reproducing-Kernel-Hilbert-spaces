{
 "cells": [
  {
   "cell_type": "code",
   "execution_count": 82,
   "metadata": {},
   "outputs": [],
   "source": [
    "import numpy as np\n",
    "import torch\n",
    "import matplotlib.pyplot as plt\n",
    "from tqdm import tqdm\n",
    "from sklearn.model_selection import train_test_split"
   ]
  },
  {
   "cell_type": "code",
   "execution_count": 83,
   "metadata": {},
   "outputs": [
    {
     "data": {
      "text/plain": [
       "<torch._C.Generator at 0x7ea4f3fb85b0>"
      ]
     },
     "execution_count": 83,
     "metadata": {},
     "output_type": "execute_result"
    }
   ],
   "source": [
    "torch.backends.cudnn.deterministic = True\n",
    "torch.manual_seed(0)"
   ]
  },
  {
   "cell_type": "code",
   "execution_count": 84,
   "metadata": {},
   "outputs": [],
   "source": [
    "class RKHS_classifier:\n",
    "    def __init__(self,  kernel = 'rbf', degree = 3, reg_const = 1.0, sigma = None, verbose = False):\n",
    "\n",
    "\n",
    "        if kernel == 'rbf':\n",
    "            self.kernel_fn = self.Gaussian_kernel\n",
    "        elif kernel == 'poly':\n",
    "            self.kernel_fn = self.Polynomial_kernel\n",
    "            self.degree = degree\n",
    "        elif kernel == 'linear':\n",
    "            self.kernel_fn = self.Linear_kernel\n",
    "        \n",
    "        self.relu = torch.nn.ReLU()\n",
    "        self.C = reg_const\n",
    "        self.sigma = sigma\n",
    "        self.verbose = verbose\n",
    "    \n",
    "\n",
    "    def Gaussian_kernel(self, a, b):\n",
    "        val = torch.exp((-1) *(torch.sum((a-b)**2))/(2*(self.sigma**2)))\n",
    "        return val\n",
    "    def Polynomial_kernel(self, a, b):\n",
    "        val = (torch.matmul(a,b) + 1)**self.degree\n",
    "        return val\n",
    "    def Linear_kernel(self, a,b):\n",
    "        val = torch.matmul(a,b)\n",
    "        return val\n",
    "    \n",
    "    def fit(self, features, labels, n_iters = 500):\n",
    "        self.x = features.float()\n",
    "        self.y = labels.reshape(-1,1).float()\n",
    "\n",
    "        self.rows, self.cols = features.shape\n",
    "        self.sigma = 1/self.cols if self.sigma is None else 1.0\n",
    "\n",
    "        \n",
    "        # Computing kernel matrix\n",
    "        if self.verbose: print(\"Computing kernel matrix... \", end = \"\")\n",
    "        self.kernel = torch.zeros(size = (self.rows, self.rows), dtype = torch.float, requires_grad = False)\n",
    "        for i in range(self.rows):\n",
    "            for j in range(i, self.rows):\n",
    "                self.kernel[i,j] = self.kernel_fn(self.x[i], self.x[j])\n",
    "                self.kernel[j,i] = self.kernel[i,j]\n",
    "        if self.verbose:print(\"Done\")\n",
    "        \n",
    "\n",
    "        # Optimizing over values of alpha\n",
    "        if self.verbose: print(\"computing optimal solution... \", end = \"\")\n",
    "        alpha = torch.zeros(size = (self.rows, 1), requires_grad = True).float()\n",
    "        optimizer = torch.optim.Adam([alpha], lr = 1e-1) # Using Adam optimzier but can use SGD\n",
    "        \n",
    "        self.loss_rec = torch.zeros(size = (n_iters,), dtype = float)\n",
    "        self.norm_rec = torch.zeros(size = (n_iters,), dtype = float)\n",
    "\n",
    "        for i in range(n_iters):\n",
    "            optimizer.zero_grad()\n",
    "\n",
    "            # Computing Loss \n",
    "            vec1 = self.kernel @ alpha\n",
    "            vec2 = self.y * vec1\n",
    "            vec3 = 1 - vec2\n",
    "            vec4 = self.relu(vec3)\n",
    "            loss_f = torch.sum(vec4) / self.rows\n",
    "\n",
    "            # computing Norm\n",
    "            vec5 = self.kernel @ alpha\n",
    "            norm_f = torch.transpose(alpha, dim0 = 0, dim1 = 1) @ vec5\n",
    "\n",
    "            J_f = loss_f + self.C * norm_f\n",
    "\n",
    "            J_f.backward() # Populating the graph with gradients\n",
    "\n",
    "            optimizer.step() # Updating alpha\n",
    "\n",
    "            self.loss_rec[i] = loss_f.item()\n",
    "            self.norm_rec[i] = norm_f.item()\n",
    "        \n",
    "        self.alpha = alpha.detach()\n",
    "        if self.verbose:print(\"Done\")\n",
    "\n",
    "    def predict(self, features = None): #Use 'features = None' when predictions are to be done on training data\n",
    "        if features is None:\n",
    "            pred = (self.kernel @ self.alpha).reshape(-1)\n",
    "            return pred\n",
    "        else:\n",
    "            n = features.shape[0]\n",
    "            pred = torch.empty(size = (n,), dtype = float)\n",
    "            for i in range(n):\n",
    "                s = 0\n",
    "                for j in range(self.rows):\n",
    "                    s += self.alpha[j] * self.kernel_fn(features[i], self.x[j])\n",
    "                pred[i] = s\n",
    "            return pred\n"
   ]
  },
  {
   "cell_type": "markdown",
   "metadata": {},
   "source": [
    "We consider the problem: $$\\text{min}_{f\\in H}\\quad C{\\lVert f\\rVert}_{H}^{2}+\\frac{1}{n}\\sum_{i=1}^{n}L(f(x_i), y_i)$$"
   ]
  },
  {
   "cell_type": "markdown",
   "metadata": {},
   "source": [
    "The kernels used are: $\\newline$\n",
    "i. Gaussian kernel (or rbf kernel): $$K(x,x') = \\exp\\bigg(-\\frac{{\\lVert x-x^{'}\\rVert}^{2}}{2\\sigma^{2}}\\bigg)$$"
   ]
  },
  {
   "cell_type": "markdown",
   "metadata": {},
   "source": [
    "ii. Polynomial Kernel (with degree d): $$K(x,x^{'}) = (x^{T}x^{'}+1)^{d}$$"
   ]
  },
  {
   "cell_type": "markdown",
   "metadata": {},
   "source": [
    "iii. Linear Kernel: $$K(x,x^{'}) = x^{T}x^{'}$$"
   ]
  },
  {
   "cell_type": "markdown",
   "metadata": {},
   "source": [
    "For our case we have used the Loss function: $$L(x,y) = \\text{max}(0, 1-yf(x))$$"
   ]
  },
  {
   "cell_type": "markdown",
   "metadata": {},
   "source": [
    "# Example Data"
   ]
  },
  {
   "cell_type": "code",
   "execution_count": 170,
   "metadata": {},
   "outputs": [],
   "source": [
    "n = 300\n",
    "x = torch.rand(size = (n, 2))\n",
    "y = torch.zeros(size = (n,))\n",
    "for i in range(n):\n",
    "    # r = np.sqrt((x[i,0]-0.5)**2 + (x[i,1]-0.5)**2)\n",
    "    r = torch.sqrt(torch.sum((x[i]-0.5)**2))\n",
    "\n",
    "    y[i] = 1.0 if r<0.4 and r>0.2 else -1.0"
   ]
  },
  {
   "cell_type": "code",
   "execution_count": 171,
   "metadata": {},
   "outputs": [
    {
     "data": {
      "image/png": "[encoded data removed]",
      "text/plain": [
       "<Figure size 640x480 with 1 Axes>"
      ]
     },
     "metadata": {},
     "output_type": "display_data"
    }
   ],
   "source": [
    "class1 = x[y>0]\n",
    "class2 = x[y<0]\n",
    "plt.plot(class1[:,0], class1[:,1], '.', color = 'red', label = '+1')\n",
    "plt.plot(class2[:,0], class2[:,1], '.', color = 'black', label = '-1')\n",
    "plt.legend()\n",
    "plt.show()"
   ]
  },
  {
   "cell_type": "code",
   "execution_count": 176,
   "metadata": {},
   "outputs": [],
   "source": [
    "clf = RKHS_classifier('rbf', degree = 10, reg_const = 1e-4, verbose = True)"
   ]
  },
  {
   "cell_type": "code",
   "execution_count": 177,
   "metadata": {},
   "outputs": [
    {
     "name": "stdout",
     "output_type": "stream",
     "text": [
      "Computing kernel matrix... Done\n",
      "computing optimal solution... Done\n"
     ]
    },
    {
     "data": {
      "image/png": "[encoded data removed]",
      "text/plain": [
       "<Figure size 640x480 with 1 Axes>"
      ]
     },
     "metadata": {},
     "output_type": "display_data"
    }
   ],
   "source": [
    "clf.fit(x, y, n_iters = 100)\n",
    "plt.plot(clf.loss_rec, label = 'loss_record')\n",
    "plt.plot(clf.norm_rec, label = 'norm_record')\n",
    "plt.legend()\n",
    "plt.show()"
   ]
  },
  {
   "cell_type": "code",
   "execution_count": 178,
   "metadata": {},
   "outputs": [
    {
     "name": "stdout",
     "output_type": "stream",
     "text": [
      "Accuracy = 68.67%\n"
     ]
    },
    {
     "data": {
      "image/png": "[encoded data removed]",
      "text/plain": [
       "<Figure size 640x480 with 1 Axes>"
      ]
     },
     "metadata": {},
     "output_type": "display_data"
    }
   ],
   "source": [
    "# Predicting on training data\n",
    "pred =clf.predict()\n",
    "\n",
    "# computing accuracy\n",
    "pred_label = torch.sign(pred)\n",
    "num_correct = torch.sum(torch.nn.functional.relu(pred_label * y))\n",
    "num_samples = x.shape[0]\n",
    "accuracy = (num_correct/num_samples)*100\n",
    "print(f\"Accuracy = {accuracy.item():.2f}%\",)\n",
    "\n",
    "class1 = x[pred>0]\n",
    "class2 = x[pred<0]\n",
    "plt.plot(class1[:,0], class1[:,1], '.', color = 'red', label = '+1')\n",
    "plt.plot(class2[:,0], class2[:,1], '.', color = 'black', label = '-1')\n",
    "plt.legend()\n",
    "plt.show()\n",
    "\n"
   ]
  },
  {
   "cell_type": "code",
   "execution_count": 179,
   "metadata": {},
   "outputs": [
    {
     "data": {
      "image/png": "[encoded data removed]",
      "text/plain": [
       "<Figure size 640x480 with 1 Axes>"
      ]
     },
     "metadata": {},
     "output_type": "display_data"
    }
   ],
   "source": [
    "x_ = torch.rand(size = (1000, 2)).float()\n",
    "pred = clf.predict(x_)\n",
    "\n",
    "class1 = x_[pred>0]\n",
    "class2 = x_[pred<0]\n",
    "plt.plot(class1[:,0], class1[:,1], '.', color = 'red', label = '+1')\n",
    "plt.plot(class2[:,0], class2[:,1], '.', color = 'black', label = '-1')\n",
    "plt.legend()\n",
    "plt.show()"
   ]
  },
  {
   "cell_type": "markdown",
   "metadata": {},
   "source": [
    "# IRIS Data"
   ]
  },
  {
   "cell_type": "code",
   "execution_count": 91,
   "metadata": {},
   "outputs": [],
   "source": [
    "from sklearn import datasets\n",
    "iris = datasets.load_iris()"
   ]
  },
  {
   "cell_type": "code",
   "execution_count": 92,
   "metadata": {},
   "outputs": [
    {
     "data": {
      "text/plain": [
       "array(['setosa', 'versicolor', 'virginica'], dtype='<U10')"
      ]
     },
     "execution_count": 92,
     "metadata": {},
     "output_type": "execute_result"
    }
   ],
   "source": [
    "iris['target_names']"
   ]
  },
  {
   "cell_type": "code",
   "execution_count": 93,
   "metadata": {},
   "outputs": [],
   "source": [
    "features = iris['data']\n",
    "labels = iris['target']\n",
    "\n",
    "# We will keep only setosa and versicolor\n",
    "features = features[labels != 2]\n",
    "labels = labels[labels != 2]\n",
    "labels = 2*(labels - 0.5) #  Making the labels 1 for versicolor and -1 for setosa\n",
    "\n",
    "# Converting them to tensor\n",
    "features = torch.tensor(features)\n",
    "labels = torch.tensor(labels)"
   ]
  },
  {
   "cell_type": "code",
   "execution_count": 139,
   "metadata": {},
   "outputs": [],
   "source": [
    "clf_iris = RKHS_classifier('rbf', degree = 4, reg_const = 0.1, verbose = True)"
   ]
  },
  {
   "cell_type": "code",
   "execution_count": 140,
   "metadata": {},
   "outputs": [
    {
     "name": "stdout",
     "output_type": "stream",
     "text": [
      "Computing kernel matrix... Done\n",
      "computing optimal solution... Done\n"
     ]
    },
    {
     "data": {
      "image/png": "[encoded data removed]",
      "text/plain": [
       "<Figure size 640x480 with 1 Axes>"
      ]
     },
     "metadata": {},
     "output_type": "display_data"
    }
   ],
   "source": [
    "clf_iris.fit(features, labels, n_iters = 500)\n",
    "\n",
    "#Plotting the loss and norm records\n",
    "plt.plot(clf_iris.loss_rec, label = 'loss_record')\n",
    "plt.plot(clf_iris.norm_rec, label = 'norm_record')\n",
    "plt.legend()\n",
    "plt.show()"
   ]
  },
  {
   "cell_type": "code",
   "execution_count": 141,
   "metadata": {},
   "outputs": [
    {
     "name": "stdout",
     "output_type": "stream",
     "text": [
      "Accuracy = 100.00%\n"
     ]
    }
   ],
   "source": [
    "# Predicting on training data\n",
    "pred = clf_iris.predict()\n",
    "\n",
    "# computing accuracy\n",
    "pred_label = torch.sign(pred)\n",
    "num_correct = torch.sum(torch.nn.functional.relu(pred_label * labels))\n",
    "num_samples = features.shape[0]\n",
    "accuracy = (num_correct/num_samples)*100\n",
    "print(f\"Accuracy = {accuracy.item():.2f}%\",)\n"
   ]
  },
  {
   "cell_type": "code",
   "execution_count": 142,
   "metadata": {},
   "outputs": [],
   "source": [
    "features_train, features_test, labels_train, labels_test = train_test_split(features, labels, train_size = 0.9, random_state = 0)"
   ]
  },
  {
   "cell_type": "markdown",
   "metadata": {},
   "source": [
    "### Training on partial data"
   ]
  },
  {
   "cell_type": "code",
   "execution_count": 143,
   "metadata": {},
   "outputs": [
    {
     "name": "stdout",
     "output_type": "stream",
     "text": [
      "Computing kernel matrix... Done\n",
      "computing optimal solution... Done\n"
     ]
    },
    {
     "data": {
      "image/png": "[encoded data removed]",
      "text/plain": [
       "<Figure size 640x480 with 1 Axes>"
      ]
     },
     "metadata": {},
     "output_type": "display_data"
    }
   ],
   "source": [
    "clf_iris.fit(features_train, labels_train, n_iters = 500)\n",
    "\n",
    "# Plotting the norm and loss records\n",
    "plt.plot(clf_iris.loss_rec, label = 'loss_record')\n",
    "plt.plot(clf_iris.norm_rec, label = 'norm_record')\n",
    "plt.legend()\n",
    "plt.show()"
   ]
  },
  {
   "cell_type": "code",
   "execution_count": 99,
   "metadata": {},
   "outputs": [
    {
     "name": "stdout",
     "output_type": "stream",
     "text": [
      "Training Accuracy = 100.00%\n"
     ]
    }
   ],
   "source": [
    "# Predicting on training data\n",
    "pred_train = clf_iris.predict()\n",
    "\n",
    "# computing accuracy\n",
    "pred_label_train = torch.sign(pred_train)\n",
    "num_correct = torch.sum(torch.nn.functional.relu(pred_label_train * labels_train))\n",
    "num_samples = features_train.shape[0]\n",
    "accuracy = (num_correct/num_samples)*100\n",
    "print(f\"Training Accuracy = {accuracy.item():.2f}%\",)\n"
   ]
  },
  {
   "cell_type": "code",
   "execution_count": 100,
   "metadata": {},
   "outputs": [
    {
     "name": "stdout",
     "output_type": "stream",
     "text": [
      "Testing Accuracy = 100.00%\n"
     ]
    }
   ],
   "source": [
    "# Predicting on training data\n",
    "pred_test = clf_iris.predict(features_test)\n",
    "\n",
    "# computing accuracy\n",
    "pred_label_test = torch.sign(pred_test)\n",
    "num_correct = torch.sum(torch.nn.functional.relu(pred_label_test * labels_test))\n",
    "num_samples = features_test.shape[0]\n",
    "accuracy = (num_correct/num_samples)*100\n",
    "print(f\"Testing Accuracy = {accuracy.item():.2f}%\",)\n"
   ]
  },
  {
   "cell_type": "markdown",
   "metadata": {},
   "source": [
    "# Titanic Data"
   ]
  },
  {
   "cell_type": "code",
   "execution_count": 101,
   "metadata": {},
   "outputs": [
    {
     "data": {
      "text/html": [
       "<div>\n",
       "<style scoped>\n",
       "    .dataframe tbody tr th:only-of-type {\n",
       "        vertical-align: middle;\n",
       "    }\n",
       "\n",
       "    .dataframe tbody tr th {\n",
       "        vertical-align: top;\n",
       "    }\n",
       "\n",
       "    .dataframe thead th {\n",
       "        text-align: right;\n",
       "    }\n",
       "</style>\n",
       "<table border=\"1\" class=\"dataframe\">\n",
       "  <thead>\n",
       "    <tr style=\"text-align: right;\">\n",
       "      <th></th>\n",
       "      <th>PassengerId</th>\n",
       "      <th>Survived</th>\n",
       "      <th>Pclass</th>\n",
       "      <th>Name</th>\n",
       "      <th>Sex</th>\n",
       "      <th>Age</th>\n",
       "      <th>SibSp</th>\n",
       "      <th>Parch</th>\n",
       "      <th>Ticket</th>\n",
       "      <th>Fare</th>\n",
       "      <th>Cabin</th>\n",
       "      <th>Embarked</th>\n",
       "    </tr>\n",
       "  </thead>\n",
       "  <tbody>\n",
       "    <tr>\n",
       "      <th>0</th>\n",
       "      <td>1</td>\n",
       "      <td>0</td>\n",
       "      <td>3</td>\n",
       "      <td>Braund, Mr. Owen Harris</td>\n",
       "      <td>male</td>\n",
       "      <td>22.0</td>\n",
       "      <td>1</td>\n",
       "      <td>0</td>\n",
       "      <td>A/5 21171</td>\n",
       "      <td>7.2500</td>\n",
       "      <td>NaN</td>\n",
       "      <td>S</td>\n",
       "    </tr>\n",
       "    <tr>\n",
       "      <th>1</th>\n",
       "      <td>2</td>\n",
       "      <td>1</td>\n",
       "      <td>1</td>\n",
       "      <td>Cumings, Mrs. John Bradley (Florence Briggs Th...</td>\n",
       "      <td>female</td>\n",
       "      <td>38.0</td>\n",
       "      <td>1</td>\n",
       "      <td>0</td>\n",
       "      <td>PC 17599</td>\n",
       "      <td>71.2833</td>\n",
       "      <td>C85</td>\n",
       "      <td>C</td>\n",
       "    </tr>\n",
       "    <tr>\n",
       "      <th>2</th>\n",
       "      <td>3</td>\n",
       "      <td>1</td>\n",
       "      <td>3</td>\n",
       "      <td>Heikkinen, Miss. Laina</td>\n",
       "      <td>female</td>\n",
       "      <td>26.0</td>\n",
       "      <td>0</td>\n",
       "      <td>0</td>\n",
       "      <td>STON/O2. 3101282</td>\n",
       "      <td>7.9250</td>\n",
       "      <td>NaN</td>\n",
       "      <td>S</td>\n",
       "    </tr>\n",
       "    <tr>\n",
       "      <th>3</th>\n",
       "      <td>4</td>\n",
       "      <td>1</td>\n",
       "      <td>1</td>\n",
       "      <td>Futrelle, Mrs. Jacques Heath (Lily May Peel)</td>\n",
       "      <td>female</td>\n",
       "      <td>35.0</td>\n",
       "      <td>1</td>\n",
       "      <td>0</td>\n",
       "      <td>113803</td>\n",
       "      <td>53.1000</td>\n",
       "      <td>C123</td>\n",
       "      <td>S</td>\n",
       "    </tr>\n",
       "    <tr>\n",
       "      <th>4</th>\n",
       "      <td>5</td>\n",
       "      <td>0</td>\n",
       "      <td>3</td>\n",
       "      <td>Allen, Mr. William Henry</td>\n",
       "      <td>male</td>\n",
       "      <td>35.0</td>\n",
       "      <td>0</td>\n",
       "      <td>0</td>\n",
       "      <td>373450</td>\n",
       "      <td>8.0500</td>\n",
       "      <td>NaN</td>\n",
       "      <td>S</td>\n",
       "    </tr>\n",
       "    <tr>\n",
       "      <th>...</th>\n",
       "      <td>...</td>\n",
       "      <td>...</td>\n",
       "      <td>...</td>\n",
       "      <td>...</td>\n",
       "      <td>...</td>\n",
       "      <td>...</td>\n",
       "      <td>...</td>\n",
       "      <td>...</td>\n",
       "      <td>...</td>\n",
       "      <td>...</td>\n",
       "      <td>...</td>\n",
       "      <td>...</td>\n",
       "    </tr>\n",
       "    <tr>\n",
       "      <th>886</th>\n",
       "      <td>887</td>\n",
       "      <td>0</td>\n",
       "      <td>2</td>\n",
       "      <td>Montvila, Rev. Juozas</td>\n",
       "      <td>male</td>\n",
       "      <td>27.0</td>\n",
       "      <td>0</td>\n",
       "      <td>0</td>\n",
       "      <td>211536</td>\n",
       "      <td>13.0000</td>\n",
       "      <td>NaN</td>\n",
       "      <td>S</td>\n",
       "    </tr>\n",
       "    <tr>\n",
       "      <th>887</th>\n",
       "      <td>888</td>\n",
       "      <td>1</td>\n",
       "      <td>1</td>\n",
       "      <td>Graham, Miss. Margaret Edith</td>\n",
       "      <td>female</td>\n",
       "      <td>19.0</td>\n",
       "      <td>0</td>\n",
       "      <td>0</td>\n",
       "      <td>112053</td>\n",
       "      <td>30.0000</td>\n",
       "      <td>B42</td>\n",
       "      <td>S</td>\n",
       "    </tr>\n",
       "    <tr>\n",
       "      <th>888</th>\n",
       "      <td>889</td>\n",
       "      <td>0</td>\n",
       "      <td>3</td>\n",
       "      <td>Johnston, Miss. Catherine Helen \"Carrie\"</td>\n",
       "      <td>female</td>\n",
       "      <td>NaN</td>\n",
       "      <td>1</td>\n",
       "      <td>2</td>\n",
       "      <td>W./C. 6607</td>\n",
       "      <td>23.4500</td>\n",
       "      <td>NaN</td>\n",
       "      <td>S</td>\n",
       "    </tr>\n",
       "    <tr>\n",
       "      <th>889</th>\n",
       "      <td>890</td>\n",
       "      <td>1</td>\n",
       "      <td>1</td>\n",
       "      <td>Behr, Mr. Karl Howell</td>\n",
       "      <td>male</td>\n",
       "      <td>26.0</td>\n",
       "      <td>0</td>\n",
       "      <td>0</td>\n",
       "      <td>111369</td>\n",
       "      <td>30.0000</td>\n",
       "      <td>C148</td>\n",
       "      <td>C</td>\n",
       "    </tr>\n",
       "    <tr>\n",
       "      <th>890</th>\n",
       "      <td>891</td>\n",
       "      <td>0</td>\n",
       "      <td>3</td>\n",
       "      <td>Dooley, Mr. Patrick</td>\n",
       "      <td>male</td>\n",
       "      <td>32.0</td>\n",
       "      <td>0</td>\n",
       "      <td>0</td>\n",
       "      <td>370376</td>\n",
       "      <td>7.7500</td>\n",
       "      <td>NaN</td>\n",
       "      <td>Q</td>\n",
       "    </tr>\n",
       "  </tbody>\n",
       "</table>\n",
       "<p>891 rows × 12 columns</p>\n",
       "</div>"
      ],
      "text/plain": [
       "     PassengerId  Survived  Pclass  \\\n",
       "0              1         0       3   \n",
       "1              2         1       1   \n",
       "2              3         1       3   \n",
       "3              4         1       1   \n",
       "4              5         0       3   \n",
       "..           ...       ...     ...   \n",
       "886          887         0       2   \n",
       "887          888         1       1   \n",
       "888          889         0       3   \n",
       "889          890         1       1   \n",
       "890          891         0       3   \n",
       "\n",
       "                                                  Name     Sex   Age  SibSp  \\\n",
       "0                              Braund, Mr. Owen Harris    male  22.0      1   \n",
       "1    Cumings, Mrs. John Bradley (Florence Briggs Th...  female  38.0      1   \n",
       "2                               Heikkinen, Miss. Laina  female  26.0      0   \n",
       "3         Futrelle, Mrs. Jacques Heath (Lily May Peel)  female  35.0      1   \n",
       "4                             Allen, Mr. William Henry    male  35.0      0   \n",
       "..                                                 ...     ...   ...    ...   \n",
       "886                              Montvila, Rev. Juozas    male  27.0      0   \n",
       "887                       Graham, Miss. Margaret Edith  female  19.0      0   \n",
       "888           Johnston, Miss. Catherine Helen \"Carrie\"  female   NaN      1   \n",
       "889                              Behr, Mr. Karl Howell    male  26.0      0   \n",
       "890                                Dooley, Mr. Patrick    male  32.0      0   \n",
       "\n",
       "     Parch            Ticket     Fare Cabin Embarked  \n",
       "0        0         A/5 21171   7.2500   NaN        S  \n",
       "1        0          PC 17599  71.2833   C85        C  \n",
       "2        0  STON/O2. 3101282   7.9250   NaN        S  \n",
       "3        0            113803  53.1000  C123        S  \n",
       "4        0            373450   8.0500   NaN        S  \n",
       "..     ...               ...      ...   ...      ...  \n",
       "886      0            211536  13.0000   NaN        S  \n",
       "887      0            112053  30.0000   B42        S  \n",
       "888      2        W./C. 6607  23.4500   NaN        S  \n",
       "889      0            111369  30.0000  C148        C  \n",
       "890      0            370376   7.7500   NaN        Q  \n",
       "\n",
       "[891 rows x 12 columns]"
      ]
     },
     "execution_count": 101,
     "metadata": {},
     "output_type": "execute_result"
    }
   ],
   "source": [
    "import pandas as pd\n",
    "\n",
    "titanic_data = pd.read_csv(\"titanic.csv\")\n",
    "titanic_data"
   ]
  },
  {
   "cell_type": "code",
   "execution_count": 102,
   "metadata": {},
   "outputs": [
    {
     "data": {
      "text/html": [
       "<div>\n",
       "<style scoped>\n",
       "    .dataframe tbody tr th:only-of-type {\n",
       "        vertical-align: middle;\n",
       "    }\n",
       "\n",
       "    .dataframe tbody tr th {\n",
       "        vertical-align: top;\n",
       "    }\n",
       "\n",
       "    .dataframe thead th {\n",
       "        text-align: right;\n",
       "    }\n",
       "</style>\n",
       "<table border=\"1\" class=\"dataframe\">\n",
       "  <thead>\n",
       "    <tr style=\"text-align: right;\">\n",
       "      <th></th>\n",
       "      <th>Survived</th>\n",
       "      <th>Pclass</th>\n",
       "      <th>Sex</th>\n",
       "      <th>Age</th>\n",
       "      <th>SibSp</th>\n",
       "      <th>Parch</th>\n",
       "      <th>Fare</th>\n",
       "      <th>Embarked</th>\n",
       "    </tr>\n",
       "  </thead>\n",
       "  <tbody>\n",
       "    <tr>\n",
       "      <th>0</th>\n",
       "      <td>0</td>\n",
       "      <td>3</td>\n",
       "      <td>male</td>\n",
       "      <td>22.0</td>\n",
       "      <td>1</td>\n",
       "      <td>0</td>\n",
       "      <td>7.2500</td>\n",
       "      <td>S</td>\n",
       "    </tr>\n",
       "    <tr>\n",
       "      <th>1</th>\n",
       "      <td>1</td>\n",
       "      <td>1</td>\n",
       "      <td>female</td>\n",
       "      <td>38.0</td>\n",
       "      <td>1</td>\n",
       "      <td>0</td>\n",
       "      <td>71.2833</td>\n",
       "      <td>C</td>\n",
       "    </tr>\n",
       "    <tr>\n",
       "      <th>2</th>\n",
       "      <td>1</td>\n",
       "      <td>3</td>\n",
       "      <td>female</td>\n",
       "      <td>26.0</td>\n",
       "      <td>0</td>\n",
       "      <td>0</td>\n",
       "      <td>7.9250</td>\n",
       "      <td>S</td>\n",
       "    </tr>\n",
       "    <tr>\n",
       "      <th>3</th>\n",
       "      <td>1</td>\n",
       "      <td>1</td>\n",
       "      <td>female</td>\n",
       "      <td>35.0</td>\n",
       "      <td>1</td>\n",
       "      <td>0</td>\n",
       "      <td>53.1000</td>\n",
       "      <td>S</td>\n",
       "    </tr>\n",
       "    <tr>\n",
       "      <th>4</th>\n",
       "      <td>0</td>\n",
       "      <td>3</td>\n",
       "      <td>male</td>\n",
       "      <td>35.0</td>\n",
       "      <td>0</td>\n",
       "      <td>0</td>\n",
       "      <td>8.0500</td>\n",
       "      <td>S</td>\n",
       "    </tr>\n",
       "    <tr>\n",
       "      <th>...</th>\n",
       "      <td>...</td>\n",
       "      <td>...</td>\n",
       "      <td>...</td>\n",
       "      <td>...</td>\n",
       "      <td>...</td>\n",
       "      <td>...</td>\n",
       "      <td>...</td>\n",
       "      <td>...</td>\n",
       "    </tr>\n",
       "    <tr>\n",
       "      <th>886</th>\n",
       "      <td>0</td>\n",
       "      <td>2</td>\n",
       "      <td>male</td>\n",
       "      <td>27.0</td>\n",
       "      <td>0</td>\n",
       "      <td>0</td>\n",
       "      <td>13.0000</td>\n",
       "      <td>S</td>\n",
       "    </tr>\n",
       "    <tr>\n",
       "      <th>887</th>\n",
       "      <td>1</td>\n",
       "      <td>1</td>\n",
       "      <td>female</td>\n",
       "      <td>19.0</td>\n",
       "      <td>0</td>\n",
       "      <td>0</td>\n",
       "      <td>30.0000</td>\n",
       "      <td>S</td>\n",
       "    </tr>\n",
       "    <tr>\n",
       "      <th>888</th>\n",
       "      <td>0</td>\n",
       "      <td>3</td>\n",
       "      <td>female</td>\n",
       "      <td>NaN</td>\n",
       "      <td>1</td>\n",
       "      <td>2</td>\n",
       "      <td>23.4500</td>\n",
       "      <td>S</td>\n",
       "    </tr>\n",
       "    <tr>\n",
       "      <th>889</th>\n",
       "      <td>1</td>\n",
       "      <td>1</td>\n",
       "      <td>male</td>\n",
       "      <td>26.0</td>\n",
       "      <td>0</td>\n",
       "      <td>0</td>\n",
       "      <td>30.0000</td>\n",
       "      <td>C</td>\n",
       "    </tr>\n",
       "    <tr>\n",
       "      <th>890</th>\n",
       "      <td>0</td>\n",
       "      <td>3</td>\n",
       "      <td>male</td>\n",
       "      <td>32.0</td>\n",
       "      <td>0</td>\n",
       "      <td>0</td>\n",
       "      <td>7.7500</td>\n",
       "      <td>Q</td>\n",
       "    </tr>\n",
       "  </tbody>\n",
       "</table>\n",
       "<p>891 rows × 8 columns</p>\n",
       "</div>"
      ],
      "text/plain": [
       "     Survived Pclass     Sex   Age  SibSp  Parch     Fare Embarked\n",
       "0           0      3    male  22.0      1      0   7.2500        S\n",
       "1           1      1  female  38.0      1      0  71.2833        C\n",
       "2           1      3  female  26.0      0      0   7.9250        S\n",
       "3           1      1  female  35.0      1      0  53.1000        S\n",
       "4           0      3    male  35.0      0      0   8.0500        S\n",
       "..        ...    ...     ...   ...    ...    ...      ...      ...\n",
       "886         0      2    male  27.0      0      0  13.0000        S\n",
       "887         1      1  female  19.0      0      0  30.0000        S\n",
       "888         0      3  female   NaN      1      2  23.4500        S\n",
       "889         1      1    male  26.0      0      0  30.0000        C\n",
       "890         0      3    male  32.0      0      0   7.7500        Q\n",
       "\n",
       "[891 rows x 8 columns]"
      ]
     },
     "execution_count": 102,
     "metadata": {},
     "output_type": "execute_result"
    }
   ],
   "source": [
    "tdata = titanic_data.drop(columns = ['Ticket', 'Cabin', 'Name', 'PassengerId', ], inplace = False)\n",
    "tdata['Pclass'] = tdata['Pclass'].astype('category')\n",
    "tdata['Sex'] = tdata['Sex'].astype('category')\n",
    "tdata['Embarked'] = tdata['Embarked'].astype('category')\n",
    "\n",
    "tdata"
   ]
  },
  {
   "cell_type": "code",
   "execution_count": 130,
   "metadata": {},
   "outputs": [
    {
     "name": "stdout",
     "output_type": "stream",
     "text": [
      "0.24242424242424243\n",
      "0.20650953984287318\n",
      "0.5510662177328844\n"
     ]
    }
   ],
   "source": [
    "vec =tdata['Pclass']\n",
    "vec1 = vec[vec == 1]\n",
    "n1 = vec1.shape[0]\n",
    "vec2 = vec[vec == 2]\n",
    "n2 = vec2.shape[0]\n",
    "vec3 = vec[vec == 3]\n",
    "n3 = vec3.shape[0]\n",
    "print(vec1.shape[0]/891)\n",
    "print(vec2.shape[0]/891)\n",
    "print(vec3.shape[0]/891)\n",
    "# plt.hist(vec, )"
   ]
  },
  {
   "cell_type": "code",
   "execution_count": 131,
   "metadata": {},
   "outputs": [
    {
     "name": "stdout",
     "output_type": "stream",
     "text": [
      "0.6296296296296297\n",
      "0.47282608695652173\n",
      "0.24236252545824846\n"
     ]
    }
   ],
   "source": [
    "t_ = tdata[tdata['Survived'] == 1]\n",
    "vec = t_['Pclass']\n",
    "vec1 = vec[vec == 1]\n",
    "vec2 = vec[vec == 2]\n",
    "vec3 = vec[vec == 3]\n",
    "m = t_.shape[0]\n",
    "print(vec1.shape[0]/n1)\n",
    "print(vec2.shape[0]/n2)\n",
    "print(vec3.shape[0]/n3)"
   ]
  },
  {
   "cell_type": "code",
   "execution_count": 103,
   "metadata": {},
   "outputs": [
    {
     "data": {
      "text/plain": [
       "Survived      0\n",
       "Pclass        0\n",
       "Sex           0\n",
       "Age         177\n",
       "SibSp         0\n",
       "Parch         0\n",
       "Fare          0\n",
       "Embarked      2\n",
       "dtype: int64"
      ]
     },
     "execution_count": 103,
     "metadata": {},
     "output_type": "execute_result"
    }
   ],
   "source": [
    "tdata.isna().sum()"
   ]
  },
  {
   "cell_type": "code",
   "execution_count": 104,
   "metadata": {},
   "outputs": [],
   "source": [
    "data = tdata.copy()\n",
    "mean_age = np.mean(tdata['Age'])\n",
    "data['Age'] = tdata['Age'].fillna(mean_age)\n",
    "data = data.dropna(axis = 0)"
   ]
  },
  {
   "cell_type": "code",
   "execution_count": 105,
   "metadata": {},
   "outputs": [
    {
     "data": {
      "text/plain": [
       "Survived    0\n",
       "Pclass      0\n",
       "Sex         0\n",
       "Age         0\n",
       "SibSp       0\n",
       "Parch       0\n",
       "Fare        0\n",
       "Embarked    0\n",
       "dtype: int64"
      ]
     },
     "execution_count": 105,
     "metadata": {},
     "output_type": "execute_result"
    }
   ],
   "source": [
    "data.isna().sum()"
   ]
  },
  {
   "cell_type": "code",
   "execution_count": 106,
   "metadata": {},
   "outputs": [
    {
     "data": {
      "text/html": [
       "<div>\n",
       "<style scoped>\n",
       "    .dataframe tbody tr th:only-of-type {\n",
       "        vertical-align: middle;\n",
       "    }\n",
       "\n",
       "    .dataframe tbody tr th {\n",
       "        vertical-align: top;\n",
       "    }\n",
       "\n",
       "    .dataframe thead th {\n",
       "        text-align: right;\n",
       "    }\n",
       "</style>\n",
       "<table border=\"1\" class=\"dataframe\">\n",
       "  <thead>\n",
       "    <tr style=\"text-align: right;\">\n",
       "      <th></th>\n",
       "      <th>Survived</th>\n",
       "      <th>Age</th>\n",
       "      <th>SibSp</th>\n",
       "      <th>Parch</th>\n",
       "      <th>Fare</th>\n",
       "      <th>Pclass_1</th>\n",
       "      <th>Pclass_2</th>\n",
       "      <th>Pclass_3</th>\n",
       "      <th>Sex_female</th>\n",
       "      <th>Sex_male</th>\n",
       "      <th>Embarked_C</th>\n",
       "      <th>Embarked_Q</th>\n",
       "      <th>Embarked_S</th>\n",
       "    </tr>\n",
       "  </thead>\n",
       "  <tbody>\n",
       "    <tr>\n",
       "      <th>0</th>\n",
       "      <td>0</td>\n",
       "      <td>22.000000</td>\n",
       "      <td>1</td>\n",
       "      <td>0</td>\n",
       "      <td>7.2500</td>\n",
       "      <td>0</td>\n",
       "      <td>0</td>\n",
       "      <td>1</td>\n",
       "      <td>0</td>\n",
       "      <td>1</td>\n",
       "      <td>0</td>\n",
       "      <td>0</td>\n",
       "      <td>1</td>\n",
       "    </tr>\n",
       "    <tr>\n",
       "      <th>1</th>\n",
       "      <td>1</td>\n",
       "      <td>38.000000</td>\n",
       "      <td>1</td>\n",
       "      <td>0</td>\n",
       "      <td>71.2833</td>\n",
       "      <td>1</td>\n",
       "      <td>0</td>\n",
       "      <td>0</td>\n",
       "      <td>1</td>\n",
       "      <td>0</td>\n",
       "      <td>1</td>\n",
       "      <td>0</td>\n",
       "      <td>0</td>\n",
       "    </tr>\n",
       "    <tr>\n",
       "      <th>2</th>\n",
       "      <td>1</td>\n",
       "      <td>26.000000</td>\n",
       "      <td>0</td>\n",
       "      <td>0</td>\n",
       "      <td>7.9250</td>\n",
       "      <td>0</td>\n",
       "      <td>0</td>\n",
       "      <td>1</td>\n",
       "      <td>1</td>\n",
       "      <td>0</td>\n",
       "      <td>0</td>\n",
       "      <td>0</td>\n",
       "      <td>1</td>\n",
       "    </tr>\n",
       "    <tr>\n",
       "      <th>3</th>\n",
       "      <td>1</td>\n",
       "      <td>35.000000</td>\n",
       "      <td>1</td>\n",
       "      <td>0</td>\n",
       "      <td>53.1000</td>\n",
       "      <td>1</td>\n",
       "      <td>0</td>\n",
       "      <td>0</td>\n",
       "      <td>1</td>\n",
       "      <td>0</td>\n",
       "      <td>0</td>\n",
       "      <td>0</td>\n",
       "      <td>1</td>\n",
       "    </tr>\n",
       "    <tr>\n",
       "      <th>4</th>\n",
       "      <td>0</td>\n",
       "      <td>35.000000</td>\n",
       "      <td>0</td>\n",
       "      <td>0</td>\n",
       "      <td>8.0500</td>\n",
       "      <td>0</td>\n",
       "      <td>0</td>\n",
       "      <td>1</td>\n",
       "      <td>0</td>\n",
       "      <td>1</td>\n",
       "      <td>0</td>\n",
       "      <td>0</td>\n",
       "      <td>1</td>\n",
       "    </tr>\n",
       "    <tr>\n",
       "      <th>...</th>\n",
       "      <td>...</td>\n",
       "      <td>...</td>\n",
       "      <td>...</td>\n",
       "      <td>...</td>\n",
       "      <td>...</td>\n",
       "      <td>...</td>\n",
       "      <td>...</td>\n",
       "      <td>...</td>\n",
       "      <td>...</td>\n",
       "      <td>...</td>\n",
       "      <td>...</td>\n",
       "      <td>...</td>\n",
       "      <td>...</td>\n",
       "    </tr>\n",
       "    <tr>\n",
       "      <th>886</th>\n",
       "      <td>0</td>\n",
       "      <td>27.000000</td>\n",
       "      <td>0</td>\n",
       "      <td>0</td>\n",
       "      <td>13.0000</td>\n",
       "      <td>0</td>\n",
       "      <td>1</td>\n",
       "      <td>0</td>\n",
       "      <td>0</td>\n",
       "      <td>1</td>\n",
       "      <td>0</td>\n",
       "      <td>0</td>\n",
       "      <td>1</td>\n",
       "    </tr>\n",
       "    <tr>\n",
       "      <th>887</th>\n",
       "      <td>1</td>\n",
       "      <td>19.000000</td>\n",
       "      <td>0</td>\n",
       "      <td>0</td>\n",
       "      <td>30.0000</td>\n",
       "      <td>1</td>\n",
       "      <td>0</td>\n",
       "      <td>0</td>\n",
       "      <td>1</td>\n",
       "      <td>0</td>\n",
       "      <td>0</td>\n",
       "      <td>0</td>\n",
       "      <td>1</td>\n",
       "    </tr>\n",
       "    <tr>\n",
       "      <th>888</th>\n",
       "      <td>0</td>\n",
       "      <td>29.699118</td>\n",
       "      <td>1</td>\n",
       "      <td>2</td>\n",
       "      <td>23.4500</td>\n",
       "      <td>0</td>\n",
       "      <td>0</td>\n",
       "      <td>1</td>\n",
       "      <td>1</td>\n",
       "      <td>0</td>\n",
       "      <td>0</td>\n",
       "      <td>0</td>\n",
       "      <td>1</td>\n",
       "    </tr>\n",
       "    <tr>\n",
       "      <th>889</th>\n",
       "      <td>1</td>\n",
       "      <td>26.000000</td>\n",
       "      <td>0</td>\n",
       "      <td>0</td>\n",
       "      <td>30.0000</td>\n",
       "      <td>1</td>\n",
       "      <td>0</td>\n",
       "      <td>0</td>\n",
       "      <td>0</td>\n",
       "      <td>1</td>\n",
       "      <td>1</td>\n",
       "      <td>0</td>\n",
       "      <td>0</td>\n",
       "    </tr>\n",
       "    <tr>\n",
       "      <th>890</th>\n",
       "      <td>0</td>\n",
       "      <td>32.000000</td>\n",
       "      <td>0</td>\n",
       "      <td>0</td>\n",
       "      <td>7.7500</td>\n",
       "      <td>0</td>\n",
       "      <td>0</td>\n",
       "      <td>1</td>\n",
       "      <td>0</td>\n",
       "      <td>1</td>\n",
       "      <td>0</td>\n",
       "      <td>1</td>\n",
       "      <td>0</td>\n",
       "    </tr>\n",
       "  </tbody>\n",
       "</table>\n",
       "<p>889 rows × 13 columns</p>\n",
       "</div>"
      ],
      "text/plain": [
       "     Survived        Age  SibSp  Parch     Fare  Pclass_1  Pclass_2  Pclass_3  \\\n",
       "0           0  22.000000      1      0   7.2500         0         0         1   \n",
       "1           1  38.000000      1      0  71.2833         1         0         0   \n",
       "2           1  26.000000      0      0   7.9250         0         0         1   \n",
       "3           1  35.000000      1      0  53.1000         1         0         0   \n",
       "4           0  35.000000      0      0   8.0500         0         0         1   \n",
       "..        ...        ...    ...    ...      ...       ...       ...       ...   \n",
       "886         0  27.000000      0      0  13.0000         0         1         0   \n",
       "887         1  19.000000      0      0  30.0000         1         0         0   \n",
       "888         0  29.699118      1      2  23.4500         0         0         1   \n",
       "889         1  26.000000      0      0  30.0000         1         0         0   \n",
       "890         0  32.000000      0      0   7.7500         0         0         1   \n",
       "\n",
       "     Sex_female  Sex_male  Embarked_C  Embarked_Q  Embarked_S  \n",
       "0             0         1           0           0           1  \n",
       "1             1         0           1           0           0  \n",
       "2             1         0           0           0           1  \n",
       "3             1         0           0           0           1  \n",
       "4             0         1           0           0           1  \n",
       "..          ...       ...         ...         ...         ...  \n",
       "886           0         1           0           0           1  \n",
       "887           1         0           0           0           1  \n",
       "888           1         0           0           0           1  \n",
       "889           0         1           1           0           0  \n",
       "890           0         1           0           1           0  \n",
       "\n",
       "[889 rows x 13 columns]"
      ]
     },
     "execution_count": 106,
     "metadata": {},
     "output_type": "execute_result"
    }
   ],
   "source": [
    "data = pd.get_dummies(data, dtype=int)\n",
    "data"
   ]
  },
  {
   "cell_type": "code",
   "execution_count": 120,
   "metadata": {},
   "outputs": [],
   "source": [
    "X = data.iloc[:,1:].to_numpy()\n",
    "Y = data.iloc[:,0].to_numpy()\n",
    "Y = 2*(Y - 0.5)\n",
    "\n",
    "X_train, X_test, Y_train, Y_test = train_test_split(X, Y, train_size = 0.9, random_state = 100)\n",
    "\n",
    "X_train = torch.tensor(X_train).float()\n",
    "X_test = torch.tensor(X_test).float()\n",
    "Y_train = torch.tensor(Y_train).float()\n",
    "Y_test = torch.tensor(Y_test).float()\n"
   ]
  },
  {
   "cell_type": "markdown",
   "metadata": {},
   "source": [
    "### We do a grid search using each of the kernels on the regularisation constant and the degree (when polynomial kernel is used)"
   ]
  },
  {
   "cell_type": "markdown",
   "metadata": {},
   "source": [
    "##### Polynomial Kernel"
   ]
  },
  {
   "cell_type": "code",
   "execution_count": 121,
   "metadata": {},
   "outputs": [
    {
     "name": "stderr",
     "output_type": "stream",
     "text": [
      "100%|██████████| 8/8 [00:56<00:00,  7.09s/it]"
     ]
    },
    {
     "name": "stdout",
     "output_type": "stream",
     "text": [
      "Best test accuracy  68.53932584269663\n",
      "Best train accuracy  68.0\n",
      "polynomial degree =  6\n",
      "reg_const 0.001\n"
     ]
    },
    {
     "name": "stderr",
     "output_type": "stream",
     "text": [
      "\n"
     ]
    }
   ],
   "source": [
    "import itertools\n",
    "\n",
    "reg_const_range = [1e-3, 1e-4]\n",
    "degree_range = [3,4,5,6]\n",
    "comb = list(itertools.product(reg_const_range, degree_range))\n",
    "poly_train_acc = []\n",
    "poly_test_acc = []\n",
    "poly_best = {'train':0, 'test':0, 'reg_const':0, 'degree': 0}\n",
    "for reg_const, degree in tqdm(comb):\n",
    "    torch.manual_seed(0)\n",
    "    clf1 = RKHS_classifier(kernel = 'poly', reg_const = reg_const, degree = degree)\n",
    "    clf1.fit(X_train, Y_train, n_iters = 500)\n",
    "    \n",
    "    pred = clf1.predict() \n",
    "    pred_label = torch.sign(pred)\n",
    "    num_correct = torch.sum(torch.nn.functional.relu(pred_label * Y_train))\n",
    "    num_samples = X_train.shape[0]\n",
    "    accuracy = (num_correct/num_samples)*100\n",
    "    poly_train_acc.append(accuracy)\n",
    "\n",
    "\n",
    "    pred = clf1.predict(X_test)\n",
    "    pred_label = torch.sign(pred)\n",
    "    num_correct = torch.sum(torch.nn.functional.relu(pred_label * Y_test))\n",
    "    num_samples = X_test.shape[0]\n",
    "    accuracy = (num_correct/num_samples)*100\n",
    "    poly_test_acc.append(accuracy)\n",
    "\n",
    "    if poly_test_acc[-1] > poly_best['test']:\n",
    "        poly_best['test'] = poly_test_acc[-1]\n",
    "        poly_best['train'] = poly_train_acc[-1]\n",
    "        poly_best['reg_const'] = reg_const\n",
    "        poly_best['degree'] = degree\n",
    "\n",
    "\n",
    "print(\"Best test accuracy \", poly_best['test'].item())\n",
    "print(\"Best train accuracy \", poly_best['train'].item())\n",
    "print(\"polynomial degree = \", poly_best['degree'])\n",
    "print(\"reg_const\", poly_best['reg_const'])"
   ]
  },
  {
   "cell_type": "code",
   "execution_count": 122,
   "metadata": {},
   "outputs": [
    {
     "name": "stdout",
     "output_type": "stream",
     "text": [
      "[(0.001, 3), (0.001, 4), (0.001, 5), (0.001, 6), (0.0001, 3), (0.0001, 4), (0.0001, 5), (0.0001, 6)]\n"
     ]
    }
   ],
   "source": [
    "print(comb)"
   ]
  },
  {
   "cell_type": "code",
   "execution_count": 123,
   "metadata": {},
   "outputs": [
    {
     "data": {
      "image/png": "[encoded data removed]",
      "text/plain": [
       "<Figure size 640x480 with 1 Axes>"
      ]
     },
     "metadata": {},
     "output_type": "display_data"
    }
   ],
   "source": [
    "plt.plot(poly_train_acc, label = 'train_acc')\n",
    "plt.plot(poly_test_acc, label = 'test_acc')\n",
    "plt.legend()\n",
    "plt.show()"
   ]
  },
  {
   "cell_type": "markdown",
   "metadata": {},
   "source": [
    "##### Gaussial Kernel"
   ]
  },
  {
   "cell_type": "code",
   "execution_count": 124,
   "metadata": {},
   "outputs": [
    {
     "name": "stderr",
     "output_type": "stream",
     "text": [
      "100%|██████████| 8/8 [01:21<00:00, 10.19s/it]"
     ]
    },
    {
     "name": "stdout",
     "output_type": "stream",
     "text": [
      "Best test accuracy  42.69662921348314\n",
      "Best train accuracy  97.5\n",
      "reg_const 0.1\n"
     ]
    },
    {
     "name": "stderr",
     "output_type": "stream",
     "text": [
      "\n"
     ]
    }
   ],
   "source": [
    "\n",
    "reg_const_range = [1, 1e-1, 1e-2, 1e-3, 1e-4, 1e-5, 1e-6, 0]\n",
    "\n",
    "rbf_train_acc = []\n",
    "rbf_test_acc = []\n",
    "rbf_best = {'train':0, 'test':0, 'reg_const':0}\n",
    "for reg_const in tqdm(reg_const_range):\n",
    "    torch.manual_seed(0)\n",
    "    clf1 = RKHS_classifier(kernel = 'rbf', reg_const = reg_const)\n",
    "    clf1.fit(X_train, Y_train, n_iters = 500)\n",
    "    \n",
    "    pred = clf1.predict() \n",
    "    pred_label = torch.sign(pred)\n",
    "    num_correct = torch.sum(torch.nn.functional.relu(pred_label * Y_train))\n",
    "    num_samples = X_train.shape[0]\n",
    "    accuracy = (num_correct/num_samples)*100\n",
    "    rbf_train_acc.append(accuracy)\n",
    "\n",
    "\n",
    "    pred = clf1.predict(X_test)\n",
    "    pred_label = torch.sign(pred)\n",
    "    num_correct = torch.sum(torch.nn.functional.relu(pred_label * Y_test))\n",
    "    num_samples = X_test.shape[0]\n",
    "    accuracy = (num_correct/num_samples)*100\n",
    "    rbf_test_acc.append(accuracy)\n",
    "\n",
    "\n",
    "    if rbf_test_acc[-1] > rbf_best['test']:\n",
    "        rbf_best['test'] = rbf_test_acc[-1]\n",
    "        rbf_best['train'] = rbf_train_acc[-1]\n",
    "        rbf_best['reg_const'] = reg_const\n",
    "\n",
    "\n",
    "print(\"Best test accuracy \", rbf_best['test'].item())\n",
    "print(\"Best train accuracy \", rbf_best['train'].item())\n",
    "print(\"reg_const\", rbf_best['reg_const'])"
   ]
  },
  {
   "cell_type": "code",
   "execution_count": 125,
   "metadata": {},
   "outputs": [
    {
     "data": {
      "image/png": "[encoded data removed]",
      "text/plain": [
       "<Figure size 640x480 with 1 Axes>"
      ]
     },
     "metadata": {},
     "output_type": "display_data"
    }
   ],
   "source": [
    "plt.plot(rbf_train_acc, label = 'train_acc')\n",
    "plt.plot(rbf_test_acc, label = 'test_acc')\n",
    "plt.legend()\n",
    "plt.show()"
   ]
  },
  {
   "cell_type": "code",
   "execution_count": 126,
   "metadata": {},
   "outputs": [
    {
     "name": "stderr",
     "output_type": "stream",
     "text": [
      "100%|██████████| 7/7 [00:33<00:00,  4.85s/it]"
     ]
    },
    {
     "name": "stdout",
     "output_type": "stream",
     "text": [
      "Best test accuracy  61.79775280898876\n",
      "Best train accuracy  61.75\n",
      "reg_const 0.1\n"
     ]
    },
    {
     "name": "stderr",
     "output_type": "stream",
     "text": [
      "\n"
     ]
    }
   ],
   "source": [
    "reg_const_range = [1e-1, 1e-2, 1e-3, 1e-4, 1e-5, 1e-6, 0]\n",
    "\n",
    "linear_train_acc = []\n",
    "linear_test_acc = []\n",
    "linear_best = {'train':0, 'test':0, 'reg_const':0}\n",
    "for reg_const in tqdm(reg_const_range):\n",
    "    torch.manual_seed(0)\n",
    "    clf1 = RKHS_classifier(kernel = 'linear', reg_const = reg_const)\n",
    "    clf1.fit(X_train, Y_train, n_iters = 500)\n",
    "    \n",
    "    pred = clf1.predict() \n",
    "    pred_label = torch.sign(pred)\n",
    "    num_correct = torch.sum(torch.nn.functional.relu(pred_label * Y_train))\n",
    "    num_samples = X_train.shape[0]\n",
    "    accuracy = (num_correct/num_samples)*100\n",
    "    linear_train_acc.append(accuracy)\n",
    "\n",
    "\n",
    "    pred = clf1.predict(X_test)\n",
    "    pred_label = torch.sign(pred)\n",
    "    num_correct = torch.sum(torch.nn.functional.relu(pred_label * Y_test))\n",
    "    num_samples = X_test.shape[0]\n",
    "    accuracy = (num_correct/num_samples)*100\n",
    "    linear_test_acc.append(accuracy)\n",
    "\n",
    "    if rbf_test_acc[-1] > linear_best['test']:\n",
    "        linear_best['test'] = linear_test_acc[-1]\n",
    "        linear_best['train'] = linear_train_acc[-1]\n",
    "        linear_best['reg_const'] = reg_const\n",
    "\n",
    "print(\"Best test accuracy \", linear_best['test'].item())\n",
    "print(\"Best train accuracy \", linear_best['train'].item())\n",
    "print(\"reg_const\", linear_best['reg_const'])"
   ]
  },
  {
   "cell_type": "code",
   "execution_count": 127,
   "metadata": {},
   "outputs": [
    {
     "data": {
      "image/png": "[encoded data removed]",
      "text/plain": [
       "<Figure size 640x480 with 1 Axes>"
      ]
     },
     "metadata": {},
     "output_type": "display_data"
    }
   ],
   "source": [
    "plt.plot(linear_train_acc, label = 'train_acc')\n",
    "plt.plot(linear_test_acc, label = 'test_acc')\n",
    "plt.legend()\n",
    "plt.show()"
   ]
  },
  {
   "cell_type": "code",
   "execution_count": null,
   "metadata": {},
   "outputs": [],
   "source": []
  },
  {
   "cell_type": "code",
   "execution_count": null,
   "metadata": {},
   "outputs": [],
   "source": []
  }
 ],
 "metadata": {
  "kernelspec": {
   "display_name": "in_env",
   "language": "python",
   "name": "python3"
  },
  "language_info": {
   "codemirror_mode": {
    "name": "ipython",
    "version": 3
   },
   "file_extension": ".py",
   "mimetype": "text/x-python",
   "name": "python",
   "nbconvert_exporter": "python",
   "pygments_lexer": "ipython3",
   "version": "3.11.5"
  }
 },
 "nbformat": 4,
 "nbformat_minor": 2
}
