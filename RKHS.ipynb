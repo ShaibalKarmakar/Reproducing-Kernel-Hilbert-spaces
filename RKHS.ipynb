{
 "cells": [
  {
   "cell_type": "code",
   "execution_count": 2,
   "metadata": {},
   "outputs": [],
   "source": [
    "import numpy as np\n",
    "np.set_printoptions(precision = 2)"
   ]
  },
  {
   "cell_type": "code",
   "execution_count": 3,
   "metadata": {},
   "outputs": [],
   "source": [
    "class RKHS:\n",
    "    def __init__(self, P):\n",
    "        self.P = P\n",
    "\n",
    "        # Checking that matrix P is a square and symmetric matrix\n",
    "        n,m = P.shape\n",
    "        if n != m:\n",
    "            raise Exception(\"The matrix is not square\")\n",
    "        for i in range(n):\n",
    "            for j in range(i+1,n):\n",
    "                if P[i,j] != P[j,i]:\n",
    "                    raise Exception(\"Not Symmetric\")\n",
    "            \n",
    "        # Computing eigenvalues and eigenvectors of P\n",
    "        eigval, eigvec = np.linalg.eig(P)\n",
    "\n",
    "        # Checking that all eigenvalues are non-negative implying positive semi-definiteness of P\n",
    "        for e in eigval:\n",
    "            if e<0:\n",
    "                raise Exception(\"Not Positive semidefinite\")\n",
    "        \n",
    "        # Computing the Moore-Penrose inverse of P\n",
    "        D = np.diag(eigval)\n",
    "        D_plus = np.zeros_like(D)\n",
    "        for i in range(n):\n",
    "            if D[i,i] >0:\n",
    "                D_plus[i,i] = 1/D[i,i] \n",
    "        self.P_plus = eigvec @ D_plus @ (eigvec.T)\n",
    "\n",
    "        # Computing the orthongonal projection onto the column space of P\n",
    "        D_ = np.zeros_like(D)\n",
    "        for i in range(n):\n",
    "            if D[i,i]>0:\n",
    "                D_[i,i] = 1\n",
    "        self.Proj = eigvec @ D_ @(eigvec.T) \n",
    "\n",
    "    def inner_prod(self, u, v):\n",
    "        # Checking that u and v are indeed in the column space of P\n",
    "        tol = 1e-8\n",
    "        if np.linalg.norm(self.Proj @ u - u) >tol:\n",
    "            raise Exception(\"u is not in the column space of P\")\n",
    "        if np.linalg.norm(self.Proj @ v - v) >tol:\n",
    "            raise Exception(\"v is not in the column space of P\")\n",
    "        \n",
    "        # Computing the inner product of u and v in the RKHS induced my matrix P\n",
    "        innprod = np.dot(self.P_plus@u, v)\n",
    "        return innprod\n",
    "    \n",
    "    def get_orthogonal_basis(self):\n",
    "        n = self.P.shape[0]\n",
    "        vecs = []\n",
    "        # Gram Schmidt orthogonalization process\n",
    "        for i in range(n):\n",
    "            u = self.P[:,i]\n",
    "            u_hat = u.copy()\n",
    "            for vec in vecs:\n",
    "                coeff = self.inner_prod(u, vec)\n",
    "                u_hat = u_hat - coeff * vec\n",
    "            u_hat_norm_sq = self.inner_prod(u_hat, u_hat)\n",
    "            if u_hat_norm_sq >0 :\n",
    "                vecs.append(u_hat/np.sqrt(u_hat_norm_sq))\n",
    "        return vecs\n",
    "    \n",
    "    def reconstruct_P(self): # reconstructing P using the power series expansion of kernel using orthonormal basis \n",
    "        orth_basis = self.get_orthogonal_basis()\n",
    "        n = self.P.shape[0]\n",
    "        rec_P = np.zeros(shape = (n,n), dtype = float)\n",
    "        for i in range(n):\n",
    "            for j in range(n):                \n",
    "                for vec in orth_basis:\n",
    "                    rec_P[i,j] += vec[i]*vec[j]\n",
    "        return rec_P"
   ]
  },
  {
   "cell_type": "code",
   "execution_count": 4,
   "metadata": {},
   "outputs": [],
   "source": [
    "A = np.array(\n",
    "    [\n",
    "        [1, 1, 0],\n",
    "        [1, 4, 1],\n",
    "        [0, 1, 1]\n",
    "    ]\n",
    ")\n",
    "rkhs_A = RKHS(A)"
   ]
  },
  {
   "cell_type": "code",
   "execution_count": 5,
   "metadata": {},
   "outputs": [
    {
     "data": {
      "text/plain": [
       "-1.5000000000000004"
      ]
     },
     "execution_count": 5,
     "metadata": {},
     "output_type": "execute_result"
    }
   ],
   "source": [
    "\n",
    "u = np.array([0,3,0])\n",
    "v = np.array([1,0,0])\n",
    "rkhs_A.inner_prod(u,v)"
   ]
  },
  {
   "cell_type": "code",
   "execution_count": 6,
   "metadata": {},
   "outputs": [
    {
     "data": {
      "text/plain": [
       "[array([1., 1., 0.]),\n",
       " array([0.  , 1.73, 0.58]),\n",
       " array([1.36e-16, 5.44e-16, 8.16e-01])]"
      ]
     },
     "execution_count": 6,
     "metadata": {},
     "output_type": "execute_result"
    }
   ],
   "source": [
    "# Computing the orthogonal basis of column space of P w.r.t. the norm of the RKHS\n",
    "rkhs_A.get_orthogonal_basis()"
   ]
  },
  {
   "cell_type": "code",
   "execution_count": 7,
   "metadata": {},
   "outputs": [
    {
     "data": {
      "text/plain": [
       "array([[1.00e+00, 1.00e+00, 1.11e-16],\n",
       "       [1.00e+00, 4.00e+00, 1.00e+00],\n",
       "       [1.11e-16, 1.00e+00, 1.00e+00]])"
      ]
     },
     "execution_count": 7,
     "metadata": {},
     "output_type": "execute_result"
    }
   ],
   "source": [
    "# Reconstructing P using the above orthonormal basis\n",
    "\n",
    "rkhs_A.reconstruct_P()"
   ]
  },
  {
   "cell_type": "code",
   "execution_count": null,
   "metadata": {},
   "outputs": [],
   "source": []
  }
 ],
 "metadata": {
  "kernelspec": {
   "display_name": "in_env",
   "language": "python",
   "name": "python3"
  },
  "language_info": {
   "codemirror_mode": {
    "name": "ipython",
    "version": 3
   },
   "file_extension": ".py",
   "mimetype": "text/x-python",
   "name": "python",
   "nbconvert_exporter": "python",
   "pygments_lexer": "ipython3",
   "version": "3.11.5"
  }
 },
 "nbformat": 4,
 "nbformat_minor": 2
}
